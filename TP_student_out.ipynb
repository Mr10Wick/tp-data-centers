{
 "cells": [
  {
   "cell_type": "markdown",
   "id": "7f118c14",
   "metadata": {
    "papermill": {
     "duration": 0.009485,
     "end_time": "2025-09-15T07:53:55.084266",
     "exception": false,
     "start_time": "2025-09-15T07:53:55.074781",
     "status": "completed"
    },
    "tags": []
   },
   "source": [
    "#  TP : Data Centers, Green IT et Data Science\n",
    "### Master 2 – Data / IA\n",
    "\n",
    "---\n",
    "\n",
    "## Objectifs du TP\n",
    "- Manipuler un **dataset réel** lié aux infrastructures numériques.\n",
    "- Explorer les **enjeux énergétiques et environnementaux** des data centers.\n",
    "- Développer des compétences en **nettoyage, analyse et visualisation de données**.\n",
    "- Relier l’analyse statistique aux **cadres réglementaires (UE, USA, Singapour, Australie)**.\n",
    "- Appliquer des techniques de **Data Science (corrélations, modèles de régression)**.\n",
    "- Mettre en œuvre un pipeline simple de **CI/CD** pour automatiser l’analyse.\n"
   ]
  },
  {
   "cell_type": "code",
   "execution_count": null,
   "id": "794625c0-ae2a-47a1-b31d-e781415e8f57",
   "metadata": {
    "papermill": {
     "duration": 0.003717,
     "end_time": "2025-09-15T07:53:55.092020",
     "exception": false,
     "start_time": "2025-09-15T07:53:55.088303",
     "status": "completed"
    },
    "tags": []
   },
   "outputs": [],
   "source": []
  },
  {
   "cell_type": "markdown",
   "id": "329d7949",
   "metadata": {
    "papermill": {
     "duration": 0.00333,
     "end_time": "2025-09-15T07:53:55.098784",
     "exception": false,
     "start_time": "2025-09-15T07:53:55.095454",
     "status": "completed"
    },
    "tags": []
   },
   "source": [
    "##  Données\n",
    "Fichier fourni : `Book1.csv` (extrait d’une base mondiale de data centers).\n",
    "\n",
    "Variables principales :\n",
    "- `Country` : pays\n",
    "- `Continent` : continent\n",
    "- `Number of data centres` : nombre total recensé\n",
    "- `Gross Power (MW)` : puissance électrique installée\n",
    "- `Renewable Energy Usage (%)` : part estimée d’énergie renouvelable\n",
    "- Autres colonnes liées aux surfaces, capacités, données disponibles…\n"
   ]
  },
  {
   "cell_type": "markdown",
   "id": "2456f12f",
   "metadata": {
    "papermill": {
     "duration": 0.002197,
     "end_time": "2025-09-15T07:53:55.104195",
     "exception": false,
     "start_time": "2025-09-15T07:53:55.101998",
     "status": "completed"
    },
    "tags": []
   },
   "source": [
    "## Partie 1 — Préparation & Nettoyage des données\n",
    "**Travail attendu :**\n",
    "1. Charger le dataset avec `pandas`.\n",
    "2. Vérifier le nombre de lignes/colonnes et explorer les 5 premières lignes.\n",
    "3. Identifier et traiter les valeurs manquantes (par suppression ou imputation).\n",
    "4. Supprimer les colonnes inutiles pour l’analyse.\n",
    "5. Construire un **mini dictionnaire de données** avec 3 colonnes clés.\n",
    "\n",
    " **Question :** pourquoi un dictionnaire de données est-il indispensable dans un projet de gouvernance des données ?"
   ]
  },
  {
   "cell_type": "code",
   "execution_count": 1,
   "id": "9dafa703",
   "metadata": {
    "execution": {
     "iopub.execute_input": "2025-09-15T07:53:55.110167Z",
     "iopub.status.busy": "2025-09-15T07:53:55.109786Z",
     "iopub.status.idle": "2025-09-15T07:53:56.533198Z",
     "shell.execute_reply": "2025-09-15T07:53:56.532946Z"
    },
    "papermill": {
     "duration": 1.427941,
     "end_time": "2025-09-15T07:53:56.534020",
     "exception": false,
     "start_time": "2025-09-15T07:53:55.106079",
     "status": "completed"
    },
    "tags": []
   },
   "outputs": [
    {
     "name": "stdout",
     "output_type": "stream",
     "text": [
      "Shape (lignes, colonnes): (191, 21)\n"
     ]
    },
    {
     "data": {
      "text/html": [
       "<div>\n",
       "<style scoped>\n",
       "    .dataframe tbody tr th:only-of-type {\n",
       "        vertical-align: middle;\n",
       "    }\n",
       "\n",
       "    .dataframe tbody tr th {\n",
       "        vertical-align: top;\n",
       "    }\n",
       "\n",
       "    .dataframe thead th {\n",
       "        text-align: right;\n",
       "    }\n",
       "</style>\n",
       "<table border=\"1\" class=\"dataframe\">\n",
       "  <thead>\n",
       "    <tr style=\"text-align: right;\">\n",
       "      <th></th>\n",
       "      <th>country</th>\n",
       "      <th>total_data_centers</th>\n",
       "      <th>hyperscale_data_centers</th>\n",
       "      <th>colocation_data_centers</th>\n",
       "      <th>floor_space_sqft_total</th>\n",
       "      <th>power_capacity_MW_total</th>\n",
       "      <th>average_renewable_energy_usage_percent</th>\n",
       "      <th>tier_distribution</th>\n",
       "      <th>key_operators</th>\n",
       "      <th>cloud_provider</th>\n",
       "      <th>...</th>\n",
       "      <th>avg_latency_to_global_hubs_ms</th>\n",
       "      <th>number_of_fiber_connections</th>\n",
       "      <th>growth_rate_of_data_centers_percent_per_year</th>\n",
       "      <th>cooling_technologies_common</th>\n",
       "      <th>regulatory_challenges_or_limits</th>\n",
       "      <th>disaster_recovery_sites_common</th>\n",
       "      <th>green_dc_initiatives_description</th>\n",
       "      <th>source_of_data</th>\n",
       "      <th>Unnamed: 19</th>\n",
       "      <th>Unnamed: 20</th>\n",
       "    </tr>\n",
       "  </thead>\n",
       "  <tbody>\n",
       "    <tr>\n",
       "      <th>0</th>\n",
       "      <td>United States</td>\n",
       "      <td>5426</td>\n",
       "      <td>300+</td>\n",
       "      <td>~2,000+</td>\n",
       "      <td>~3,552,000,000</td>\n",
       "      <td>~12,000+</td>\n",
       "      <td>~27%</td>\n",
       "      <td>I:5%, II:15%, III:60%, IV:20%</td>\n",
       "      <td>Equinix, Digital Realty, CoreSite, AWS</td>\n",
       "      <td>AWS:Yes, GCP:Yes, Azure:Yes, Oracle:Yes</td>\n",
       "      <td>...</td>\n",
       "      <td>40</td>\n",
       "      <td>60+</td>\n",
       "      <td>12%</td>\n",
       "      <td>Air, Liquid, Immersion</td>\n",
       "      <td>Power grid strain in VA, moratoriums in some s...</td>\n",
       "      <td>Yes, especially for finance/health</td>\n",
       "      <td>Solar, wind PPA, immersion cooling, LEED</td>\n",
       "      <td>Statista, Brightlio, IEA, CBRE</td>\n",
       "      <td>NaN</td>\n",
       "      <td>NaN</td>\n",
       "    </tr>\n",
       "    <tr>\n",
       "      <th>1</th>\n",
       "      <td>Germany</td>\n",
       "      <td>529</td>\n",
       "      <td>50</td>\n",
       "      <td>~200</td>\n",
       "      <td>~350,000,000</td>\n",
       "      <td>~2,000+</td>\n",
       "      <td>40%+</td>\n",
       "      <td>II:10%, III:70%, IV:20%</td>\n",
       "      <td>Equinix, Digital Realty, e-shelter</td>\n",
       "      <td>AWS:Yes, GCP:Yes, Azure:Yes, Oracle:Yes</td>\n",
       "      <td>...</td>\n",
       "      <td>50</td>\n",
       "      <td>30+</td>\n",
       "      <td>8%</td>\n",
       "      <td>Air, Indirect Evap.</td>\n",
       "      <td>Power caps in Frankfurt, strict emissions</td>\n",
       "      <td>Yes, especially for finance</td>\n",
       "      <td>Wind, solar, carbon-neutral push</td>\n",
       "      <td>Statista, CBRE, IEA</td>\n",
       "      <td>NaN</td>\n",
       "      <td>NaN</td>\n",
       "    </tr>\n",
       "    <tr>\n",
       "      <th>2</th>\n",
       "      <td>United Kingdom</td>\n",
       "      <td>523</td>\n",
       "      <td>30</td>\n",
       "      <td>~150</td>\n",
       "      <td>~200,000,000</td>\n",
       "      <td>~1,000+</td>\n",
       "      <td>0.45</td>\n",
       "      <td>II:15%, III:70%, IV:15%</td>\n",
       "      <td>Equinix, Telehouse, Virtus</td>\n",
       "      <td>AWS:Yes, GCP:Yes, Azure:Yes, Oracle:Yes</td>\n",
       "      <td>...</td>\n",
       "      <td>40</td>\n",
       "      <td>25+</td>\n",
       "      <td>7%</td>\n",
       "      <td>Air, Free Cooling</td>\n",
       "      <td>Power grid constraints in London</td>\n",
       "      <td>Yes, especially for finance</td>\n",
       "      <td>Wind, solar, carbon-neutral targets</td>\n",
       "      <td>Statista, CBRE, IEA</td>\n",
       "      <td>NaN</td>\n",
       "      <td>NaN</td>\n",
       "    </tr>\n",
       "    <tr>\n",
       "      <th>3</th>\n",
       "      <td>China</td>\n",
       "      <td>449</td>\n",
       "      <td>100</td>\n",
       "      <td>~1,000+</td>\n",
       "      <td>~500,000,000</td>\n",
       "      <td>~8,000+</td>\n",
       "      <td>0.25</td>\n",
       "      <td>II:20%, III:60%, IV:20%</td>\n",
       "      <td>China Unicom, Tencent, Alibaba, GDS</td>\n",
       "      <td>AWS:Yes, GCP:No, Azure:Yes, Oracle:Yes</td>\n",
       "      <td>...</td>\n",
       "      <td>75</td>\n",
       "      <td>40+</td>\n",
       "      <td>15%</td>\n",
       "      <td>Air, Liquid</td>\n",
       "      <td>Power rationing in some provinces</td>\n",
       "      <td>Yes, for government/finance</td>\n",
       "      <td>Hydro, wind, solar, green finance</td>\n",
       "      <td>Statista, CBRE, IEA</td>\n",
       "      <td>NaN</td>\n",
       "      <td>NaN</td>\n",
       "    </tr>\n",
       "    <tr>\n",
       "      <th>4</th>\n",
       "      <td>France</td>\n",
       "      <td>322</td>\n",
       "      <td>20</td>\n",
       "      <td>~110</td>\n",
       "      <td>~120,000,000</td>\n",
       "      <td>~700</td>\n",
       "      <td>40%+</td>\n",
       "      <td>II:20%, III:70%, IV:10%</td>\n",
       "      <td>Equinix, Interxion, Data4</td>\n",
       "      <td>AWS:Yes, GCP:Yes, Azure:Yes, Oracle:Yes</td>\n",
       "      <td>...</td>\n",
       "      <td>50</td>\n",
       "      <td>20+</td>\n",
       "      <td>6%</td>\n",
       "      <td>Air, Liquid</td>\n",
       "      <td>Power grid constraints in Paris</td>\n",
       "      <td>Yes, for finance/health</td>\n",
       "      <td>Wind, solar, PUE targets</td>\n",
       "      <td>Statista, CBRE, IEA</td>\n",
       "      <td>NaN</td>\n",
       "      <td>NaN</td>\n",
       "    </tr>\n",
       "  </tbody>\n",
       "</table>\n",
       "<p>5 rows × 21 columns</p>\n",
       "</div>"
      ],
      "text/plain": [
       "          country  total_data_centers hyperscale_data_centers  \\\n",
       "0   United States                5426                    300+   \n",
       "1         Germany                 529                      50   \n",
       "2  United Kingdom                 523                      30   \n",
       "3           China                 449                     100   \n",
       "4          France                 322                      20   \n",
       "\n",
       "  colocation_data_centers floor_space_sqft_total power_capacity_MW_total  \\\n",
       "0                 ~2,000+         ~3,552,000,000                ~12,000+   \n",
       "1                    ~200           ~350,000,000                 ~2,000+   \n",
       "2                    ~150           ~200,000,000                 ~1,000+   \n",
       "3                 ~1,000+           ~500,000,000                 ~8,000+   \n",
       "4                    ~110           ~120,000,000                    ~700   \n",
       "\n",
       "  average_renewable_energy_usage_percent              tier_distribution  \\\n",
       "0                                   ~27%  I:5%, II:15%, III:60%, IV:20%   \n",
       "1                                   40%+        II:10%, III:70%, IV:20%   \n",
       "2                                   0.45        II:15%, III:70%, IV:15%   \n",
       "3                                   0.25        II:20%, III:60%, IV:20%   \n",
       "4                                   40%+        II:20%, III:70%, IV:10%   \n",
       "\n",
       "                            key_operators  \\\n",
       "0  Equinix, Digital Realty, CoreSite, AWS   \n",
       "1      Equinix, Digital Realty, e-shelter   \n",
       "2              Equinix, Telehouse, Virtus   \n",
       "3     China Unicom, Tencent, Alibaba, GDS   \n",
       "4               Equinix, Interxion, Data4   \n",
       "\n",
       "                            cloud_provider  ... avg_latency_to_global_hubs_ms  \\\n",
       "0  AWS:Yes, GCP:Yes, Azure:Yes, Oracle:Yes  ...                            40   \n",
       "1  AWS:Yes, GCP:Yes, Azure:Yes, Oracle:Yes  ...                            50   \n",
       "2  AWS:Yes, GCP:Yes, Azure:Yes, Oracle:Yes  ...                            40   \n",
       "3   AWS:Yes, GCP:No, Azure:Yes, Oracle:Yes  ...                            75   \n",
       "4  AWS:Yes, GCP:Yes, Azure:Yes, Oracle:Yes  ...                            50   \n",
       "\n",
       "  number_of_fiber_connections growth_rate_of_data_centers_percent_per_year  \\\n",
       "0                         60+                                          12%   \n",
       "1                         30+                                           8%   \n",
       "2                         25+                                           7%   \n",
       "3                         40+                                          15%   \n",
       "4                         20+                                           6%   \n",
       "\n",
       "  cooling_technologies_common  \\\n",
       "0      Air, Liquid, Immersion   \n",
       "1         Air, Indirect Evap.   \n",
       "2           Air, Free Cooling   \n",
       "3                 Air, Liquid   \n",
       "4                 Air, Liquid   \n",
       "\n",
       "                     regulatory_challenges_or_limits  \\\n",
       "0  Power grid strain in VA, moratoriums in some s...   \n",
       "1          Power caps in Frankfurt, strict emissions   \n",
       "2                   Power grid constraints in London   \n",
       "3                  Power rationing in some provinces   \n",
       "4                    Power grid constraints in Paris   \n",
       "\n",
       "       disaster_recovery_sites_common  \\\n",
       "0  Yes, especially for finance/health   \n",
       "1         Yes, especially for finance   \n",
       "2         Yes, especially for finance   \n",
       "3         Yes, for government/finance   \n",
       "4             Yes, for finance/health   \n",
       "\n",
       "           green_dc_initiatives_description                  source_of_data  \\\n",
       "0  Solar, wind PPA, immersion cooling, LEED  Statista, Brightlio, IEA, CBRE   \n",
       "1          Wind, solar, carbon-neutral push             Statista, CBRE, IEA   \n",
       "2       Wind, solar, carbon-neutral targets             Statista, CBRE, IEA   \n",
       "3         Hydro, wind, solar, green finance             Statista, CBRE, IEA   \n",
       "4                  Wind, solar, PUE targets             Statista, CBRE, IEA   \n",
       "\n",
       "  Unnamed: 19 Unnamed: 20  \n",
       "0         NaN         NaN  \n",
       "1         NaN         NaN  \n",
       "2         NaN         NaN  \n",
       "3         NaN         NaN  \n",
       "4         NaN         NaN  \n",
       "\n",
       "[5 rows x 21 columns]"
      ]
     },
     "execution_count": 1,
     "metadata": {},
     "output_type": "execute_result"
    }
   ],
   "source": [
    "import pandas as pd\n",
    "\n",
    "# Lecture du fichier CSV (nom actuel avec espace et parenthèses)\n",
    "df = pd.read_csv(\"Book1 (1).csv\")\n",
    "\n",
    "print(\"Shape (lignes, colonnes):\", df.shape)  # Affiche le nombre de lignes et colonnes\n",
    "df.head()  # Affiche les 5 premières lignes\n"
   ]
  },
  {
   "cell_type": "markdown",
   "id": "33b8445c",
   "metadata": {
    "papermill": {
     "duration": 0.001449,
     "end_time": "2025-09-15T07:53:56.537541",
     "exception": false,
     "start_time": "2025-09-15T07:53:56.536092",
     "status": "completed"
    },
    "tags": []
   },
   "source": [
    "## Partie 2 — Exploration et Visualisation\n",
    "**Travail attendu :**\n",
    "1. Identifier les **10 pays** avec le plus grand nombre de data centers.\n",
    "   - Afficher sous forme de tableau.\n",
    "   - Tracer un graphique en barres.\n",
    "2. Représenter la distribution de la **puissance installée (MW)**.\n",
    "3. Tracer un **scatter plot** entre `Gross Power (MW)` et `% renouvelable`.\n",
    "\n",
    " **Question :** commentez la relation observée. Est-ce que la puissance d’un data center permet de prédire sa durabilité ?"
   ]
  },
  {
   "cell_type": "code",
   "execution_count": 2,
   "id": "97e4cada",
   "metadata": {
    "execution": {
     "iopub.execute_input": "2025-09-15T07:53:56.540616Z",
     "iopub.status.busy": "2025-09-15T07:53:56.540513Z",
     "iopub.status.idle": "2025-09-15T07:53:57.199944Z",
     "shell.execute_reply": "2025-09-15T07:53:57.199698Z"
    },
    "papermill": {
     "duration": 0.661912,
     "end_time": "2025-09-15T07:53:57.200733",
     "exception": false,
     "start_time": "2025-09-15T07:53:56.538821",
     "status": "completed"
    },
    "tags": []
   },
   "outputs": [
    {
     "name": "stdout",
     "output_type": "stream",
     "text": [
      "Top 10 pays par nombre de data centers :\n"
     ]
    },
    {
     "data": {
      "text/plain": [
       "country\n",
       "United States     5426\n",
       "Germany            529\n",
       "United Kingdom     523\n",
       "China              449\n",
       "Canada             336\n",
       "France             322\n",
       "Australia          314\n",
       "Netherlands        298\n",
       "Russia             251\n",
       "Japan              222\n",
       "Name: total_data_centers, dtype: int64"
      ]
     },
     "metadata": {},
     "output_type": "display_data"
    },
    {
     "data": {
      "image/png": "[encoded data removed]",
      "text/plain": [
       "<Figure size 1000x500 with 1 Axes>"
      ]
     },
     "metadata": {},
     "output_type": "display_data"
    },
    {
     "data": {
      "image/png": "[encoded data removed]",
      "text/plain": [
       "<Figure size 800x500 with 1 Axes>"
      ]
     },
     "metadata": {},
     "output_type": "display_data"
    },
    {
     "data": {
      "image/png": "[encoded data removed]",
      "text/plain": [
       "<Figure size 800x500 with 1 Axes>"
      ]
     },
     "metadata": {},
     "output_type": "display_data"
    }
   ],
   "source": [
    "# Votre code ici\n",
    "import matplotlib.pyplot as plt\n",
    "\n",
    "# 1) Top 10 pays avec le plus grand nombre de data centers\n",
    "top10 = (\n",
    "    df.groupby(\"country\")[\"total_data_centers\"]\n",
    "    .sum()\n",
    "    .sort_values(ascending=False)\n",
    "    .head(10)\n",
    ")\n",
    "\n",
    "print(\"Top 10 pays par nombre de data centers :\")\n",
    "display(top10)\n",
    "\n",
    "plt.figure(figsize=(10,5))\n",
    "top10.plot(kind=\"bar\")\n",
    "plt.title(\"Top 10 pays par nombre de data centers\")\n",
    "plt.xlabel(\"Pays\")\n",
    "plt.ylabel(\"Nombre de data centers\")\n",
    "plt.show()\n",
    "\n",
    "\n",
    "# 2) Distribution de la puissance installée (MW)\n",
    "plt.figure(figsize=(8,5))\n",
    "df[\"power_capacity_MW_total\"].astype(str).str.replace(\"[^0-9]\", \"\", regex=True).replace(\"\", \"0\").astype(float).hist(bins=30)\n",
    "plt.title(\"Distribution de la puissance installée (MW)\")\n",
    "plt.xlabel(\"Puissance (MW)\")\n",
    "plt.ylabel(\"Fréquence\")\n",
    "plt.show()\n",
    "\n",
    "\n",
    "# 3) Scatter plot entre puissance installée et % renouvelable\n",
    "# (il faut convertir les colonnes en numériques)\n",
    "df[\"power_capacity_num\"] = df[\"power_capacity_MW_total\"].astype(str).str.replace(\"[^0-9]\", \"\", regex=True).replace(\"\", \"0\").astype(float)\n",
    "df[\"renewable_num\"] = df[\"average_renewable_energy_usage_percent\"].astype(str).str.replace(\"[^0-9]\", \"\", regex=True).replace(\"\", \"0\").astype(float)\n",
    "\n",
    "plt.figure(figsize=(8,5))\n",
    "plt.scatter(df[\"power_capacity_num\"], df[\"renewable_num\"], alpha=0.6)\n",
    "plt.title(\"Puissance installée vs % d'énergie renouvelable\")\n",
    "plt.xlabel(\"Puissance installée (MW)\")\n",
    "plt.ylabel(\"% énergie renouvelable\")\n",
    "plt.show()\n"
   ]
  },
  {
   "cell_type": "markdown",
   "id": "a7eeb487",
   "metadata": {
    "papermill": {
     "duration": 0.001803,
     "end_time": "2025-09-15T07:53:57.204774",
     "exception": false,
     "start_time": "2025-09-15T07:53:57.202971",
     "status": "completed"
    },
    "tags": []
   },
   "source": [
    "## Partie 3 — Comparaison intercontinentale\n",
    "**Travail attendu :**\n",
    "1. Agréger par **continent** le `% d’énergie renouvelable`.\n",
    "2. Comparer les continents dans un **bar chart**.\n",
    "3. Focus sur l’Europe vs Amérique du Nord :\n",
    "   - Calculer la moyenne et l’écart-type du `% renouvelable`.\n",
    "   - Discuter les différences en lien avec les lois (EED en Europe vs ENERGY STAR aux USA).\n",
    "\n",
    " **Question :** que montrent ces écarts sur l’efficacité des lois européennes par rapport aux approches volontaires américaines ?"
   ]
  },
  {
   "cell_type": "code",
   "execution_count": 3,
   "id": "c4667f26",
   "metadata": {
    "execution": {
     "iopub.execute_input": "2025-09-15T07:53:57.209153Z",
     "iopub.status.busy": "2025-09-15T07:53:57.208911Z",
     "iopub.status.idle": "2025-09-15T07:53:57.280991Z",
     "shell.execute_reply": "2025-09-15T07:53:57.280747Z"
    },
    "papermill": {
     "duration": 0.075064,
     "end_time": "2025-09-15T07:53:57.281720",
     "exception": false,
     "start_time": "2025-09-15T07:53:57.206656",
     "status": "completed"
    },
    "tags": []
   },
   "outputs": [
    {
     "data": {
      "text/html": [
       "<div>\n",
       "<style scoped>\n",
       "    .dataframe tbody tr th:only-of-type {\n",
       "        vertical-align: middle;\n",
       "    }\n",
       "\n",
       "    .dataframe tbody tr th {\n",
       "        vertical-align: top;\n",
       "    }\n",
       "\n",
       "    .dataframe thead th {\n",
       "        text-align: right;\n",
       "    }\n",
       "</style>\n",
       "<table border=\"1\" class=\"dataframe\">\n",
       "  <thead>\n",
       "    <tr style=\"text-align: right;\">\n",
       "      <th></th>\n",
       "      <th>continent</th>\n",
       "      <th>renewables_mean_pct</th>\n",
       "    </tr>\n",
       "  </thead>\n",
       "  <tbody>\n",
       "    <tr>\n",
       "      <th>3</th>\n",
       "      <td>North America</td>\n",
       "      <td>150685.926667</td>\n",
       "    </tr>\n",
       "    <tr>\n",
       "      <th>0</th>\n",
       "      <td>Africa</td>\n",
       "      <td>642.900000</td>\n",
       "    </tr>\n",
       "    <tr>\n",
       "      <th>5</th>\n",
       "      <td>Other</td>\n",
       "      <td>69.151361</td>\n",
       "    </tr>\n",
       "    <tr>\n",
       "      <th>1</th>\n",
       "      <td>Asia</td>\n",
       "      <td>48.954545</td>\n",
       "    </tr>\n",
       "    <tr>\n",
       "      <th>4</th>\n",
       "      <td>Oceania</td>\n",
       "      <td>48.150000</td>\n",
       "    </tr>\n",
       "    <tr>\n",
       "      <th>2</th>\n",
       "      <td>Europe</td>\n",
       "      <td>30.235000</td>\n",
       "    </tr>\n",
       "    <tr>\n",
       "      <th>6</th>\n",
       "      <td>South America</td>\n",
       "      <td>15.950000</td>\n",
       "    </tr>\n",
       "  </tbody>\n",
       "</table>\n",
       "</div>"
      ],
      "text/plain": [
       "       continent  renewables_mean_pct\n",
       "3  North America        150685.926667\n",
       "0         Africa           642.900000\n",
       "5          Other            69.151361\n",
       "1           Asia            48.954545\n",
       "4        Oceania            48.150000\n",
       "2         Europe            30.235000\n",
       "6  South America            15.950000"
      ]
     },
     "metadata": {},
     "output_type": "display_data"
    },
    {
     "data": {
      "image/png": "[encoded data removed]",
      "text/plain": [
       "<Figure size 640x480 with 1 Axes>"
      ]
     },
     "metadata": {},
     "output_type": "display_data"
    },
    {
     "name": "stdout",
     "output_type": "stream",
     "text": [
      "Europe        -> {'mean': 30.235, 'std': 35.19128723219461, 'n': 18.0}\n",
      "North America -> {'mean': 150685.92666666667, 'std': 260971.6231158402, 'n': 3.0}\n"
     ]
    }
   ],
   "source": [
    "# Votre code ici\n",
    "import pandas as pd\n",
    "import numpy as np\n",
    "import matplotlib.pyplot as plt\n",
    "\n",
    "# --- 1) Nettoyer le % renouvelable en numérique ------------------------------\n",
    "# (On recrée/écrase renewable_num pour être sûr)\n",
    "df[\"renewable_num\"] = (\n",
    "    df[\"average_renewable_energy_usage_percent\"]\n",
    "      .astype(str)\n",
    "      .str.replace(r\"[^0-9.]\", \"\", regex=True)  # enlève ~, %, +, etc.\n",
    "      .replace(\"\", \"0\")\n",
    "      .astype(float)\n",
    ")\n",
    "\n",
    "# --- 2) Ajouter une colonne 'continent' --------------------------------------\n",
    "eu = {\"France\",\"Germany\",\"United Kingdom\",\"Netherlands\",\"Spain\",\"Italy\",\"Sweden\",\"Norway\",\n",
    "      \"Finland\",\"Denmark\",\"Ireland\",\"Poland\",\"Belgium\",\"Austria\",\"Switzerland\",\"Portugal\",\n",
    "      \"Czech Republic\",\"Hungary\",\"Greece\"}\n",
    "na = {\"United States\",\"Canada\",\"Mexico\"}\n",
    "sa = {\"Brazil\",\"Argentina\",\"Chile\",\"Peru\",\"Colombia\"}\n",
    "asia = {\"China\",\"Japan\",\"South Korea\",\"India\",\"Singapore\",\"Hong Kong\",\"Taiwan\",\"Indonesia\",\n",
    "        \"Malaysia\",\"Thailand\",\"Philippines\",\"United Arab Emirates\",\"Saudi Arabia\",\"Qatar\",\n",
    "        \"Vietnam\"}\n",
    "oce = {\"Australia\",\"New Zealand\"}\n",
    "af = {\"South Africa\",\"Egypt\",\"Kenya\",\"Nigeria\",\"Morocco\"}\n",
    "\n",
    "def country_to_continent(c):\n",
    "    if c in eu:   return \"Europe\"\n",
    "    if c in na:   return \"North America\"\n",
    "    if c in sa:   return \"South America\"\n",
    "    if c in asia: return \"Asia\"\n",
    "    if c in oce:  return \"Oceania\"\n",
    "    if c in af:   return \"Africa\"\n",
    "    return \"Other\"\n",
    "\n",
    "df[\"continent\"] = df[\"country\"].apply(country_to_continent)\n",
    "\n",
    "# --- 3) Agrégation par continent (moyenne du % renouvelable) -----------------\n",
    "by_cont = (\n",
    "    df.groupby(\"continent\", as_index=False)[\"renewable_num\"]\n",
    "      .mean()\n",
    "      .rename(columns={\"renewable_num\": \"renewables_mean_pct\"})\n",
    "      .sort_values(\"renewables_mean_pct\", ascending=False)\n",
    ")\n",
    "display(by_cont)\n",
    "\n",
    "# --- 4) Bar chart des continents --------------------------------------------\n",
    "plt.figure()\n",
    "plt.bar(by_cont[\"continent\"], by_cont[\"renewables_mean_pct\"])\n",
    "plt.title(\"% d'énergie renouvelable moyen par continent\")\n",
    "plt.xlabel(\"Continent\")\n",
    "plt.ylabel(\"Renewables mean (%)\")\n",
    "plt.xticks(rotation=30, ha=\"right\")\n",
    "plt.tight_layout()\n",
    "plt.show()\n",
    "\n",
    "# --- 5) Focus Europe vs North America : moyenne / écart-type / effectif ------\n",
    "def stats_for(cont):\n",
    "    s = df.loc[df[\"continent\"] == cont, \"renewable_num\"].dropna()\n",
    "    return pd.Series({\n",
    "        \"mean\": s.mean(),\n",
    "        \"std\": s.std(ddof=1),\n",
    "        \"n\": int(s.shape[0])\n",
    "    })\n",
    "\n",
    "europe_stats = stats_for(\"Europe\")\n",
    "na_stats     = stats_for(\"North America\")\n",
    "\n",
    "print(\"Europe        ->\", europe_stats.to_dict())\n",
    "print(\"North America ->\", na_stats.to_dict())\n"
   ]
  },
  {
   "cell_type": "markdown",
   "id": "d37e3a77",
   "metadata": {
    "papermill": {
     "duration": 0.002383,
     "end_time": "2025-09-15T07:53:57.286543",
     "exception": false,
     "start_time": "2025-09-15T07:53:57.284160",
     "status": "completed"
    },
    "tags": []
   },
   "source": [
    "## Partie 4 — Data Science\n",
    "**Travail attendu :**\n",
    "1. Calculer les **corrélations** entre variables (`Gross Power`, `% renouvelable`, `Number of data centres`).\n",
    "2. Construire un **modèle de régression linéaire** simple :\n",
    "   - `Y = % renouvelable`\n",
    "   - `X = puissance installée (MW)`\n",
    "3. Évaluer le modèle avec **R²** et **RMSE**.\n",
    "4. Tester un **modèle multiple** (ajouter `Number of data centres`).\n",
    "\n",
    " **Question :** expliquez pourquoi un R² faible est **aussi une information précieuse** en gouvernance énergétique."
   ]
  },
  {
   "cell_type": "code",
   "execution_count": 4,
   "id": "a419845f-20a2-4d65-8009-03c606bd6951",
   "metadata": {
    "execution": {
     "iopub.execute_input": "2025-09-15T07:53:57.291430Z",
     "iopub.status.busy": "2025-09-15T07:53:57.291317Z",
     "iopub.status.idle": "2025-09-15T07:53:57.789890Z",
     "shell.execute_reply": "2025-09-15T07:53:57.789389Z"
    },
    "papermill": {
     "duration": 0.502322,
     "end_time": "2025-09-15T07:53:57.790995",
     "exception": false,
     "start_time": "2025-09-15T07:53:57.288673",
     "status": "completed"
    },
    "tags": []
   },
   "outputs": [
    {
     "name": "stdout",
     "output_type": "stream",
     "text": [
      "Requirement already satisfied: scikit-learn in /Library/Frameworks/Python.framework/Versions/3.11/lib/python3.11/site-packages (1.6.1)\r\n"
     ]
    },
    {
     "name": "stdout",
     "output_type": "stream",
     "text": [
      "Requirement already satisfied: numpy>=1.19.5 in /Library/Frameworks/Python.framework/Versions/3.11/lib/python3.11/site-packages (from scikit-learn) (1.26.3)\r\n",
      "Requirement already satisfied: scipy>=1.6.0 in /Library/Frameworks/Python.framework/Versions/3.11/lib/python3.11/site-packages (from scikit-learn) (1.15.1)\r\n",
      "Requirement already satisfied: joblib>=1.2.0 in /Library/Frameworks/Python.framework/Versions/3.11/lib/python3.11/site-packages (from scikit-learn) (1.4.2)\r\n",
      "Requirement already satisfied: threadpoolctl>=3.1.0 in /Library/Frameworks/Python.framework/Versions/3.11/lib/python3.11/site-packages (from scikit-learn) (3.5.0)\r\n"
     ]
    },
    {
     "name": "stdout",
     "output_type": "stream",
     "text": [
      "\r\n",
      "\u001b[1m[\u001b[0m\u001b[34;49mnotice\u001b[0m\u001b[1;39;49m]\u001b[0m\u001b[39;49m A new release of pip is available: \u001b[0m\u001b[31;49m25.0.1\u001b[0m\u001b[39;49m -> \u001b[0m\u001b[32;49m25.2\u001b[0m\r\n",
      "\u001b[1m[\u001b[0m\u001b[34;49mnotice\u001b[0m\u001b[1;39;49m]\u001b[0m\u001b[39;49m To update, run: \u001b[0m\u001b[32;49mpip install --upgrade pip\u001b[0m\r\n"
     ]
    }
   ],
   "source": [
    "!pip install scikit-learn"
   ]
  },
  {
   "cell_type": "code",
   "execution_count": 5,
   "id": "8d22e96c",
   "metadata": {
    "execution": {
     "iopub.execute_input": "2025-09-15T07:53:57.800672Z",
     "iopub.status.busy": "2025-09-15T07:53:57.800418Z",
     "iopub.status.idle": "2025-09-15T07:54:00.622580Z",
     "shell.execute_reply": "2025-09-15T07:54:00.622181Z"
    },
    "papermill": {
     "duration": 2.828232,
     "end_time": "2025-09-15T07:54:00.623544",
     "exception": false,
     "start_time": "2025-09-15T07:53:57.795312",
     "status": "completed"
    },
    "tags": []
   },
   "outputs": [
    {
     "name": "stdout",
     "output_type": "stream",
     "text": [
      "Corrélations :\n"
     ]
    },
    {
     "data": {
      "text/html": [
       "<div>\n",
       "<style scoped>\n",
       "    .dataframe tbody tr th:only-of-type {\n",
       "        vertical-align: middle;\n",
       "    }\n",
       "\n",
       "    .dataframe tbody tr th {\n",
       "        vertical-align: top;\n",
       "    }\n",
       "\n",
       "    .dataframe thead th {\n",
       "        text-align: right;\n",
       "    }\n",
       "</style>\n",
       "<table border=\"1\" class=\"dataframe\">\n",
       "  <thead>\n",
       "    <tr style=\"text-align: right;\">\n",
       "      <th></th>\n",
       "      <th>total_data_centers</th>\n",
       "      <th>power_capacity_num</th>\n",
       "      <th>renewable_num</th>\n",
       "    </tr>\n",
       "  </thead>\n",
       "  <tbody>\n",
       "    <tr>\n",
       "      <th>total_data_centers</th>\n",
       "      <td>1.000000</td>\n",
       "      <td>0.850219</td>\n",
       "      <td>0.020244</td>\n",
       "    </tr>\n",
       "    <tr>\n",
       "      <th>power_capacity_num</th>\n",
       "      <td>0.850219</td>\n",
       "      <td>1.000000</td>\n",
       "      <td>0.003872</td>\n",
       "    </tr>\n",
       "    <tr>\n",
       "      <th>renewable_num</th>\n",
       "      <td>0.020244</td>\n",
       "      <td>0.003872</td>\n",
       "      <td>1.000000</td>\n",
       "    </tr>\n",
       "  </tbody>\n",
       "</table>\n",
       "</div>"
      ],
      "text/plain": [
       "                    total_data_centers  power_capacity_num  renewable_num\n",
       "total_data_centers            1.000000            0.850219       0.020244\n",
       "power_capacity_num            0.850219            1.000000       0.003872\n",
       "renewable_num                 0.020244            0.003872       1.000000"
      ]
     },
     "metadata": {},
     "output_type": "display_data"
    },
    {
     "name": "stdout",
     "output_type": "stream",
     "text": [
      "Régression simple : R² = 0.0000, RMSE = 32617.95\n",
      "Régression multiple : R² = 0.0011, RMSE = 32601.03\n"
     ]
    }
   ],
   "source": [
    "# --- Imports -----------------------------------------------------------------\n",
    "from sklearn.linear_model import LinearRegression\n",
    "from sklearn.metrics import r2_score, mean_squared_error\n",
    "import numpy as np\n",
    "\n",
    "# --- 1) Corrélations entre variables -----------------------------------------\n",
    "num_cols = [\"total_data_centers\", \"power_capacity_num\", \"renewable_num\"]\n",
    "corr = df[num_cols].corr()\n",
    "print(\"Corrélations :\")\n",
    "display(corr)\n",
    "\n",
    "# --- 2) Régression linéaire simple (Y = % renouvelable, X = puissance) -------\n",
    "ds = df[[\"power_capacity_num\", \"renewable_num\"]].dropna()\n",
    "\n",
    "X = ds[[\"power_capacity_num\"]].values\n",
    "y = ds[\"renewable_num\"].values\n",
    "\n",
    "model = LinearRegression()\n",
    "model.fit(X, y)\n",
    "preds = model.predict(X)\n",
    "\n",
    "r2  = r2_score(y, preds)\n",
    "rmse = np.sqrt(mean_squared_error(y, preds))\n",
    "\n",
    "print(f\"Régression simple : R² = {r2:.4f}, RMSE = {rmse:.2f}\")\n",
    "\n",
    "# --- 3) Régression multiple (+ nb de data centers) ---------------------------\n",
    "ds2 = df[[\"power_capacity_num\", \"total_data_centers\", \"renewable_num\"]].dropna()\n",
    "\n",
    "X2 = ds2[[\"power_capacity_num\", \"total_data_centers\"]].values\n",
    "y2 = ds2[\"renewable_num\"].values\n",
    "\n",
    "model2 = LinearRegression()\n",
    "model2.fit(X2, y2)\n",
    "preds2 = model2.predict(X2)\n",
    "\n",
    "r2_2  = r2_score(y2, preds2)\n",
    "rmse_2 = np.sqrt(mean_squared_error(y2, preds2))\n",
    "\n",
    "print(f\"Régression multiple : R² = {r2_2:.4f}, RMSE = {rmse_2:.2f}\")\n"
   ]
  },
  {
   "cell_type": "markdown",
   "id": "2aa88a56",
   "metadata": {
    "papermill": {
     "duration": 0.002331,
     "end_time": "2025-09-15T07:54:00.630439",
     "exception": false,
     "start_time": "2025-09-15T07:54:00.628108",
     "status": "completed"
    },
    "tags": []
   },
   "source": [
    "## Partie 5 — CI/CD\n",
    "**Travail attendu :**\n",
    "1. Créer un fichier `requirements.txt` listant vos dépendances (pandas, matplotlib, scikit-learn, pytest…).\n",
    "2. Écrire un petit fichier de test `test_sample.py` avec au moins 2 assertions.\n",
    "3. Créer un workflow GitHub Actions `.github/workflows/python-ci.yml` qui :\n",
    "   - installe les dépendances,\n",
    "   - exécute `pytest`,\n",
    "   - lance le notebook pour vérifier qu’il s’exécute sans erreur.\n",
    "\n",
    " **Question :** en quoi l’automatisation CI/CD est-elle une bonne pratique de **Green IT** ?"
   ]
  },
  {
   "cell_type": "code",
   "execution_count": 6,
   "id": "5e1405f5",
   "metadata": {
    "execution": {
     "iopub.execute_input": "2025-09-15T07:54:00.637517Z",
     "iopub.status.busy": "2025-09-15T07:54:00.637300Z",
     "iopub.status.idle": "2025-09-15T07:54:00.638959Z",
     "shell.execute_reply": "2025-09-15T07:54:00.638706Z"
    },
    "papermill": {
     "duration": 0.005785,
     "end_time": "2025-09-15T07:54:00.639723",
     "exception": false,
     "start_time": "2025-09-15T07:54:00.633938",
     "status": "completed"
    },
    "tags": []
   },
   "outputs": [],
   "source": [
    "# Votre code ici\n"
   ]
  },
  {
   "cell_type": "markdown",
   "id": "d786f2fc",
   "metadata": {
    "papermill": {
     "duration": 0.002527,
     "end_time": "2025-09-15T07:54:00.645569",
     "exception": false,
     "start_time": "2025-09-15T07:54:00.643042",
     "status": "completed"
    },
    "tags": []
   },
   "source": [
    "##  Livrables attendus\n",
    "- Un notebook `TP_Etudiant.ipynb` complété.\n",
    "- Un mini dictionnaire de données en Markdown.\n",
    "- Des visualisations (bar chart, scatter plot, comparatif continental).\n",
    "- Une courte discussion (Europe vs USA).\n",
    "- `requirements.txt`, `test_sample.py`, et le workflow CI/CD."
   ]
  },
  {
   "cell_type": "code",
   "execution_count": null,
   "id": "521927af-2f64-40de-a71b-ad5817eeafd2",
   "metadata": {
    "papermill": {
     "duration": 0.002774,
     "end_time": "2025-09-15T07:54:00.651337",
     "exception": false,
     "start_time": "2025-09-15T07:54:00.648563",
     "status": "completed"
    },
    "tags": []
   },
   "outputs": [],
   "source": []
  }
 ],
 "metadata": {
  "kernelspec": {
   "display_name": "Python (4DVST)",
   "language": "python",
   "name": "4dvst-kernel"
  },
  "language_info": {
   "codemirror_mode": {
    "name": "ipython",
    "version": 3
   },
   "file_extension": ".py",
   "mimetype": "text/x-python",
   "name": "python",
   "nbconvert_exporter": "python",
   "pygments_lexer": "ipython3",
   "version": "3.11.2"
  },
  "papermill": {
   "default_parameters": {},
   "duration": 6.717869,
   "end_time": "2025-09-15T07:54:00.869835",
   "environment_variables": {},
   "exception": null,
   "input_path": "TP_student.ipynb",
   "output_path": "TP_student_out.ipynb",
   "parameters": {},
   "start_time": "2025-09-15T07:53:54.151966",
   "version": "2.6.0"
  }
 },
 "nbformat": 4,
 "nbformat_minor": 5
}